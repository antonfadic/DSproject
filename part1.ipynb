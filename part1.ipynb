{
 "cells": [
  {
   "cell_type": "markdown",
   "metadata": {},
   "source": [
    "# Hypothesis testing\n",
    "\n",
    "### Example 1\n",
    "\n",
    "US male adult population height. \n",
    "\n",
    "$H_0: \\mu = 72$\n",
    "\n",
    "and your alternative hypothesis is\n",
    "\n",
    "$H_a: \\mu < 72$ \n",
    "    \n",
    "$1-\\alpha = 95\\%$\n",
    "\n",
    "## Testing a mean of a population\n",
    "\n",
    "What if you are testing the mean but you don't know the variance? \n",
    "\n",
    "Under this condition, the normal test that we used earlier is not suitable, and another test has to be used. In this case is the __student's t test__. The __t-distribution__ has parameter, $\\nu$:\n",
    "\n",
    "$\\nu = n - 1$ \n",
    "\n",
    "Our test statistics is based on the mean of the sample, $\\hat X$ computed as:\n",
    "\n",
    "$\\hat X = \\frac{1}{n} \\sum_{i=1}^{n} X_i$ \n",
    "\n",
    "Sample variance:\n",
    "\n",
    "$S^2 = \\frac{1}{n-1} \\sum_{i=1}^{n} (X_i-\\mu)^2$\n",
    "\n",
    "So then, the __t-score or t-test statistics t__:\n",
    "\n",
    "$\\hat t = \\frac{\\hat X - \\mu}{\\frac{S}{\\sqrt n}}$\n",
    "\n",
    "And then:\n",
    "\n",
    "$t \\sim t(n-1)$\n",
    "\n",
    "All the rest studied for a normal distribution applies in this case. \n",
    "\n"
   ]
  },
  {
   "cell_type": "code",
   "execution_count": 2,
   "metadata": {},
   "outputs": [
    {
     "data": {
      "image/png": "[encoded data removed]",
      "text/plain": [
       "<Figure size 432x288 with 1 Axes>"
      ]
     },
     "metadata": {
      "needs_background": "light"
     },
     "output_type": "display_data"
    }
   ],
   "source": [
    "import numpy as np\n",
    "import matplotlib.pyplot as plt\n",
    "%matplotlib inline\n",
    "mu_real = 71\n",
    "s_real = 2.8\n",
    "n_samples = 15\n",
    "values= np.random.normal(mu_real,s_real,n_samples)\n",
    "n, bins, patches = plt.hist(values,7, alpha=0.75)\n",
    "plt.xlabel('height in')\n",
    "plt.ylabel('count')\n",
    "plt.show()"
   ]
  },
  {
   "cell_type": "code",
   "execution_count": 3,
   "metadata": {},
   "outputs": [
    {
     "name": "stdout",
     "output_type": "stream",
     "text": [
      "Sample mean:  71.122\n",
      "Sample standard deviation:  2.484\n",
      "t-statistics:  -1.369\n"
     ]
    }
   ],
   "source": [
    "x_bar = np.mean(values)\n",
    "S = np.sqrt(np.var(values,ddof=1)) #ddof is delta degrees of freedom. It is the numerator n-ddof, which in our case is 1\n",
    "t_stat = np.sqrt(n_samples)*(x_bar-72)/S\n",
    "\n",
    "print(\"Sample mean: \",np.round(x_bar,3))\n",
    "print(\"Sample standard deviation: \",np.round(S,3) )\n",
    "print(\"t-statistics: \",np.round(t_stat,3) )"
   ]
  },
  {
   "cell_type": "markdown",
   "metadata": {},
   "source": [
    "$\\hat t = \\frac{\\hat X - \\mu}{\\frac{S}{\\sqrt n}} = \\frac{71.13 - 72}{\\frac{2.839}{\\sqrt{15}}} = -1.187$"
   ]
  },
  {
   "cell_type": "code",
   "execution_count": 4,
   "metadata": {},
   "outputs": [
    {
     "data": {
      "image/png": "[encoded data removed]",
      "text/plain": [
       "<Figure size 432x288 with 1 Axes>"
      ]
     },
     "metadata": {
      "needs_background": "light"
     },
     "output_type": "display_data"
    }
   ],
   "source": [
    "from scipy.stats import t\n",
    "df = n_samples-1\n",
    "\n",
    "x = np.linspace(-3,3, 200)\n",
    "w1 = t.ppf(0.05,df)\n",
    "x1 = np.linspace(-3,w1, 200)\n",
    "w2 = t.ppf(0.95,df)\n",
    "x2 = np.linspace(w2,3, 200)\n",
    "fig, ax = plt.subplots(1, 1)\n",
    "\n",
    "y = t.pdf(x,df)\n",
    "y1 = t.pdf(x1,df)\n",
    "#y2 = t.pdf(x2,df)\n",
    "\n",
    "ax.plot(x, y, 'b-')\n",
    "plt.fill_between(x1,y1, color = 'b',alpha=0.4)\n",
    "#plt.fill_between(x2,y2, color = 'b')\n",
    "\n",
    "plt.xlabel('t')\n",
    "plt.ylabel('probability density function')\n",
    "\n",
    "plt.text(-1.1, 0.15, r'$1-\\alpha = 95\\%$', fontsize=18)\n",
    "plt.text(-3.2, 0.1, r'$\\alpha = 5\\%$', fontsize=18)\n",
    "#plt.text(2.1, 0.1, r'$\\alpha/2 = 5\\%$', fontsize=18)\n",
    "plt.text(-3, 0.02, r'Rejection', fontsize=14)\n",
    "t_crit =  np.round(t.ppf(0.05,df),3)\n",
    "plt.text(t_crit-0.05, -0.05, r'$t_{cr}$', fontsize=20)\n",
    "plt.text(t_stat, -0.015, r'$\\hat t$', fontsize=20)\n",
    "\n",
    "\n",
    "plt.axvline(x=t_stat, color='r')\n",
    "plt.axvline(x=t_crit, color='b')\n",
    "\n",
    "plt.show()"
   ]
  },
  {
   "cell_type": "code",
   "execution_count": 5,
   "metadata": {},
   "outputs": [
    {
     "name": "stdout",
     "output_type": "stream",
     "text": [
      "The critical t-statistics is:  -1.761\n"
     ]
    }
   ],
   "source": [
    "t_crit =  np.round(t.ppf(0.05,df),3)\n",
    "print(\"The critical t-statistics is: \", t_crit)"
   ]
  },
  {
   "cell_type": "markdown",
   "metadata": {},
   "source": [
    "How to define the p-value? It's the probability of a type I error given your data. In this case:\n",
    "\n",
    "$ p = P(t< \\hat t) = P(t\\leq 0.35 ) = 0.458$"
   ]
  },
  {
   "cell_type": "code",
   "execution_count": 6,
   "metadata": {},
   "outputs": [
    {
     "name": "stdout",
     "output_type": "stream",
     "text": [
      "p:  9.63 %\n"
     ]
    }
   ],
   "source": [
    "print(\"p: \",np.round(t.cdf(t_stat,df)*100,2),\"%\")"
   ]
  },
  {
   "cell_type": "markdown",
   "metadata": {},
   "source": [
    "You cannot reject the null hypothesis: two options\n",
    "* You lower your level of confidence, increasing $\\alpha$ to at least your p-value\n",
    "* You do more experiments"
   ]
  },
  {
   "cell_type": "code",
   "execution_count": 8,
   "metadata": {},
   "outputs": [
    {
     "data": {
      "image/png": "[encoded data removed]",
      "text/plain": [
       "<Figure size 432x288 with 1 Axes>"
      ]
     },
     "metadata": {
      "needs_background": "light"
     },
     "output_type": "display_data"
    }
   ],
   "source": [
    "n_samples = 25\n",
    "values= np.random.normal(mu_real,s_real,n_samples)\n",
    "\n",
    "n_samples = n_samples\n",
    "n, bins, patches = plt.hist(values,7, alpha=0.75)\n",
    "plt.xlabel('height in')\n",
    "plt.ylabel('count')\n",
    "plt.show()"
   ]
  },
  {
   "cell_type": "code",
   "execution_count": 9,
   "metadata": {},
   "outputs": [
    {
     "name": "stdout",
     "output_type": "stream",
     "text": [
      "Sample mean:  69.945\n",
      "Sample standard deviation:  3.118\n",
      "t-statistics:  -3.296\n"
     ]
    }
   ],
   "source": [
    "x_bar = np.mean(values)\n",
    "S = np.sqrt(np.var(values,ddof=1)) #ddof is delta degrees of freedom. It is the numerator n-ddof, which in our case is 1\n",
    "t_stat = np.sqrt(n_samples)*(x_bar-72)/S\n",
    "\n",
    "print(\"Sample mean: \",np.round(x_bar,3))\n",
    "print(\"Sample standard deviation: \",np.round(S,3) )\n",
    "print(\"t-statistics: \",np.round(t_stat,3) )"
   ]
  },
  {
   "cell_type": "code",
   "execution_count": 10,
   "metadata": {},
   "outputs": [
    {
     "data": {
      "image/png": "[encoded data removed]",
      "text/plain": [
       "<Figure size 432x288 with 1 Axes>"
      ]
     },
     "metadata": {
      "needs_background": "light"
     },
     "output_type": "display_data"
    }
   ],
   "source": [
    "df = n_samples-1\n",
    "\n",
    "x = np.linspace(-4,4, 200)\n",
    "w1 = t.ppf(0.05,df)\n",
    "x1 = np.linspace(-4,w1, 200)\n",
    "w2 = t.ppf(0.95,df)\n",
    "x2 = np.linspace(w2,4, 200)\n",
    "fig, ax = plt.subplots(1, 1)\n",
    "\n",
    "y = t.pdf(x,df)\n",
    "y1 = t.pdf(x1,df)\n",
    "#y2 = t.pdf(x2,df)\n",
    "\n",
    "ax.plot(x, y, 'b-')\n",
    "plt.fill_between(x1,y1, color = 'b',alpha=0.6)\n",
    "#plt.fill_between(x2,y2, color = 'b')\n",
    "\n",
    "plt.xlabel('t')\n",
    "plt.ylabel('probability density function')\n",
    "\n",
    "plt.text(-1.1, 0.15, r'$1-\\alpha = 95\\%$', fontsize=18)\n",
    "plt.text(-2.8, 0.0, r'$\\alpha = 5\\%$', fontsize=14)\n",
    "#plt.text(2.1, 0.1, r'$\\alpha/2 = 5\\%$', fontsize=18)\n",
    "plt.text(-4.2, 0.1, r'Rejection area', fontsize=15)\n",
    "t_crit =  np.round(t.ppf(0.05,df),3)\n",
    "plt.text(-t_crit, -0.09, r'$t_{cr}$', fontsize=20)\n",
    "plt.text(t_stat-0.1, -0.08, r'$\\hat t$', fontsize=20)\n",
    "\n",
    "\n",
    "plt.axvline(x=t_stat, color='r')\n",
    "plt.axvline(x=t_crit, color='b')\n",
    "\n",
    "plt.show()"
   ]
  },
  {
   "cell_type": "code",
   "execution_count": 11,
   "metadata": {},
   "outputs": [
    {
     "name": "stdout",
     "output_type": "stream",
     "text": [
      "p:  0.15 %\n"
     ]
    }
   ],
   "source": [
    "print(\"p: \",np.round(t.cdf(t_stat,df)*100,2),\"%\")"
   ]
  },
  {
   "cell_type": "markdown",
   "metadata": {},
   "source": [
    "## Setting the level of confidence. Precision and recall\n",
    "\n",
    "* The level of confidence affects the decision of rejecting or non-rejecting the null hypothesis\n",
    "* Rejecting the null hypothesis, when it is true, is called __type I error__. This is a __false positive, or false alarm__\n",
    "* Non-rejecting the null hypothesis, when it is false, is called __type II error__ . This is a __miss or fail__\n",
    "\n",
    "__Type I errors and Type II errors can have very different consequences!__ Two examples:\n",
    "\n",
    "* Illness detection: prefer false positives. You don't want to be a false negative!\n",
    "* Spam detection: prefer against false positives. You don't want to miss important emails!\n",
    "\n",
    "__Precision__ \n",
    "\n",
    "$pr = \\frac{tp}{tp+fp}$ \n",
    "\n",
    "\n",
    "__Recall__ \n",
    "\n",
    "$re = \\frac{tp}{tp+fn}$\n",
    "\n",
    "One way to combine both measures of effectivness of the test is called the __F$_1$ score__, computed as:\n",
    "\n",
    "$F_1 = \\frac{2}{\\frac{1}{pr} + \\frac{1}{re}}$ \n",
    "\n",
    "Another way to combine both of them:\n",
    "\n",
    "$F_{\\beta} = (1+\\beta^2) \\frac{1}{\\frac{\\beta^2}{re} + \\frac{1}{pr}}$"
   ]
  },
  {
   "cell_type": "markdown",
   "metadata": {},
   "source": [
    "### Summary\n",
    "\n",
    "When doing hypothesis testing, check the following.\n",
    "\n",
    "* Do you know the distribution of your data? Is it normal? Do you know the population variance?\n",
    "* If you don't know the variance, but you know that the data comes from a normal, you can use the student t distribution with n-1 degrees of freedom. You can approximate the population variance by the sample variance.\n",
    "* To do hypothesis testing you need: A null hypothesis $H_0$, and alternative hypothesis $H_a$, a level of confidence $1-\\alpha$, data, and a test statistics $\\hat p$. \n",
    "* Be aware of type I and type II errors, and how they relate to the level of confidence."
   ]
  }
 ],
 "metadata": {
  "kernelspec": {
   "display_name": "Python 3",
   "language": "python",
   "name": "python3"
  },
  "language_info": {
   "codemirror_mode": {
    "name": "ipython",
    "version": 3
   },
   "file_extension": ".py",
   "mimetype": "text/x-python",
   "name": "python",
   "nbconvert_exporter": "python",
   "pygments_lexer": "ipython3",
   "version": "3.7.0"
  }
 },
 "nbformat": 4,
 "nbformat_minor": 2
}

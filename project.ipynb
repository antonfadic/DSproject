{
 "cells": [
  {
   "cell_type": "code",
   "execution_count": 5,
   "metadata": {
    "collapsed": false
   },
   "outputs": [
    {
     "name": "stdout",
     "output_type": "stream",
     "text": [
      "C:\\Users\\PC\\Desktop\\dataIncubator\\Project\n"
     ]
    }
   ],
   "source": [
    "cd C:\\Users\\PC\\Desktop\\dataIncubator\\Project"
   ]
  },
  {
   "cell_type": "code",
   "execution_count": 6,
   "metadata": {
    "collapsed": false
   },
   "outputs": [
    {
     "data": {
      "text/plain": [
       "'C:\\\\Users\\\\PC\\\\Desktop\\\\dataIncubator\\\\Project'"
      ]
     },
     "execution_count": 6,
     "metadata": {},
     "output_type": "execute_result"
    }
   ],
   "source": [
    "pwd"
   ]
  },
  {
   "cell_type": "code",
   "execution_count": 264,
   "metadata": {
    "collapsed": true
   },
   "outputs": [],
   "source": [
    "import pandas as pd"
   ]
  },
  {
   "cell_type": "code",
   "execution_count": 265,
   "metadata": {
    "collapsed": true
   },
   "outputs": [],
   "source": [
    "import matplotlib.pyplot as plt"
   ]
  },
  {
   "cell_type": "code",
   "execution_count": null,
   "metadata": {
    "collapsed": true
   },
   "outputs": [],
   "source": [
    "import numpy as np"
   ]
  },
  {
   "cell_type": "code",
   "execution_count": null,
   "metadata": {
    "collapsed": true
   },
   "outputs": [],
   "source": [
    "%matplotlib inline"
   ]
  },
  {
   "cell_type": "code",
   "execution_count": 11,
   "metadata": {
    "collapsed": false
   },
   "outputs": [
    {
     "name": "stderr",
     "output_type": "stream",
     "text": [
      "C:\\ProgramData\\Anaconda3\\lib\\site-packages\\IPython\\core\\interactiveshell.py:2717: DtypeWarning: Columns (9,10) have mixed types. Specify dtype option on import or set low_memory=False.\n",
      "  interactivity=interactivity, compiler=compiler, result=result)\n"
     ]
    }
   ],
   "source": [
    "data = pd.read_csv('temp_datalab_records_linkedin_company.csv')"
   ]
  },
  {
   "cell_type": "code",
   "execution_count": 12,
   "metadata": {
    "collapsed": false
   },
   "outputs": [
    {
     "data": {
      "text/plain": [
       "Index(['dataset_id', 'as_of_date', 'company_name', 'followers_count',\n",
       "       'employees_on_platform', 'link', 'industry', 'date_added',\n",
       "       'date_updated', 'description', 'website', 'entity_id', 'cusip', 'isin'],\n",
       "      dtype='object')"
      ]
     },
     "execution_count": 12,
     "metadata": {},
     "output_type": "execute_result"
    }
   ],
   "source": [
    "data.columns"
   ]
  },
  {
   "cell_type": "code",
   "execution_count": null,
   "metadata": {
    "collapsed": true
   },
   "outputs": [],
   "source": [
    "# data['industry'];"
   ]
  },
  {
   "cell_type": "code",
   "execution_count": 17,
   "metadata": {
    "collapsed": false
   },
   "outputs": [
    {
     "data": {
      "text/plain": [
       "industry\n",
       "Accounting                                1553\n",
       "Airlines/Aviation                        20063\n",
       "Apparel & Fashion                        16573\n",
       "Apparel &amp; Fashion                     1221\n",
       "Automotive                               49154\n",
       "Aviation & Aerospace                     18332\n",
       "Aviation &amp; Aerospace                  1049\n",
       "Banking                                 168364\n",
       "Biotechnology                           152710\n",
       "Broadcast Media                           6905\n",
       "Building Materials                       24211\n",
       "Business Supplies and Equipment           5307\n",
       "Capital Markets                           1524\n",
       "Chemicals                                35177\n",
       "Civil Engineering                         3005\n",
       "Commercial Real Estate                   14376\n",
       "Computer & Network Security               7018\n",
       "Computer &amp; Network Security            463\n",
       "Computer Games                            3936\n",
       "Computer Hardware                         7972\n",
       "Computer Networking                       7582\n",
       "Computer Software                        83214\n",
       "Construction                             25908\n",
       "Consumer Electronics                     10013\n",
       "Consumer Goods                           36615\n",
       "Consumer Services                         6883\n",
       "Cosmetics                                 3701\n",
       "Dairy                                     1056\n",
       "Defense & Space                          14318\n",
       "Defense &amp; Space                        883\n",
       "                                         ...  \n",
       "Publishing                                2887\n",
       "Railroad Manufacture                      2740\n",
       "Ranching                                   187\n",
       "Real Estate                              81195\n",
       "Recreational Facilities and Services       693\n",
       "Renewables & Environment                 15909\n",
       "Renewables &amp; Environment               481\n",
       "Research                                  5227\n",
       "Restaurants                              38666\n",
       "Retail                                   95384\n",
       "Security and Investigations               3690\n",
       "Semiconductors                           58060\n",
       "Shipbuilding                               648\n",
       "Sporting Goods                            3600\n",
       "Sports                                    3230\n",
       "Staffing and Recruiting                  12915\n",
       "Supermarkets                              1128\n",
       "Telecommunications                       63897\n",
       "Textiles                                  3132\n",
       "Tobacco                                   2817\n",
       "Transportation/Trucking/Railroad         25016\n",
       "Utilities                                51601\n",
       "Venture Capital & Private Equity          3628\n",
       "Venture Capital &amp; Private Equity       136\n",
       "Veterinary                                 817\n",
       "Warehousing                                568\n",
       "Wholesale                                 9646\n",
       "Wine and Spirits                          3234\n",
       "Wireless                                  8619\n",
       "Writing and Editing                       2052\n",
       "Name: date_added, Length: 140, dtype: int64"
      ]
     },
     "execution_count": 17,
     "metadata": {},
     "output_type": "execute_result"
    }
   ],
   "source": [
    "data.groupby('industry')['date_added'].count()"
   ]
  },
  {
   "cell_type": "code",
   "execution_count": 18,
   "metadata": {
    "collapsed": true
   },
   "outputs": [],
   "source": [
    "groupData = data.groupby('industry')['date_added'].count()"
   ]
  },
  {
   "cell_type": "code",
   "execution_count": 58,
   "metadata": {
    "collapsed": false
   },
   "outputs": [
    {
     "data": {
      "text/plain": [
       "industry\n",
       "Gambling &amp; Casinos                      31\n",
       "Professional Training &amp; Coaching        47\n",
       "Individual &amp; Family Services            56\n",
       "Program Development                         93\n",
       "Military                                    94\n",
       "Photography                                 94\n",
       "Glass, Ceramics &amp; Concrete             116\n",
       "Venture Capital &amp; Private Equity       136\n",
       "Market Research                            148\n",
       "Graphic Design                             187\n",
       "Ranching                                   187\n",
       "Law Practice                               190\n",
       "Luxury Goods &amp; Jewelry                 205\n",
       "International Trade and Development        206\n",
       "Medical Practice                           281\n",
       "Nonprofit Organization Management          281\n",
       "Paper &amp; Forest Products                368\n",
       "Leisure, Travel &amp; Tourism              372\n",
       "Computer &amp; Network Security            463\n",
       "Fine Art                                   467\n",
       "Renewables &amp; Environment               481\n",
       "Warehousing                                568\n",
       "Public Safety                              568\n",
       "Shipbuilding                               648\n",
       "Law Enforcement                            667\n",
       "Recreational Facilities and Services       693\n",
       "Executive Office                           751\n",
       "Government Administration                  766\n",
       "Veterinary                                 817\n",
       "Defense &amp; Space                        883\n",
       "                                         ...  \n",
       "Hospitality                              20096\n",
       "Building Materials                       24211\n",
       "Food & Beverages                         24784\n",
       "Transportation/Trucking/Railroad         25016\n",
       "Marketing and Advertising                25638\n",
       "Construction                             25908\n",
       "Mechanical or Industrial Engineering     31068\n",
       "Machinery                                33504\n",
       "Hospital & Health Care                   34294\n",
       "Chemicals                                35177\n",
       "Consumer Goods                           36615\n",
       "Restaurants                              38666\n",
       "Mining & Metals                          45272\n",
       "Automotive                               49154\n",
       "Utilities                                51601\n",
       "Insurance                                55291\n",
       "Electrical/Electronic Manufacturing      55538\n",
       "Semiconductors                           58060\n",
       "Medical Devices                          63717\n",
       "Telecommunications                       63897\n",
       "Internet                                 75450\n",
       "Real Estate                              81195\n",
       "Computer Software                        83214\n",
       "Information Technology and Services      85066\n",
       "Pharmaceuticals                          92107\n",
       "Retail                                   95384\n",
       "Oil & Energy                            116830\n",
       "Financial Services                      148143\n",
       "Biotechnology                           152710\n",
       "Banking                                 168364\n",
       "Name: date_added, Length: 140, dtype: int64"
      ]
     },
     "execution_count": 58,
     "metadata": {},
     "output_type": "execute_result"
    }
   ],
   "source": [
    "groupData.sort_values()"
   ]
  },
  {
   "cell_type": "code",
   "execution_count": 119,
   "metadata": {
    "collapsed": false,
    "scrolled": true
   },
   "outputs": [
    {
     "data": {
      "image/png": "[encoded data removed]",
      "text/plain": [
       "<matplotlib.figure.Figure at 0x164b81c50>"
      ]
     },
     "metadata": {},
     "output_type": "display_data"
    }
   ],
   "source": [
    "n, bins, patches = plt.hist(groupData, bins='auto', color='#0504aa',\n",
    "                            alpha=0.7, rwidth=0.85)\n",
    "plt.grid(axis='y', alpha=0.75)\n",
    "plt.xlabel('Number of job postings')\n",
    "plt.ylabel('Frequency')\n",
    "plt.title('Histogram of job postings per industry')\n",
    "plt.text(160000, 2, r'Banking')\n",
    "plt.text(148000, 5, r'Biotechnology')\n",
    "plt.text(145000, 8, r'Financial Services')\n",
    "plt.text(100000, 4, r'Oil & Energy')\n",
    "maxfreq = n.max()\n",
    "# Set a clean upper y-axis limit.\n",
    "#plt.ylim(ymax=np.ceil(maxfreq / 10) * 10 if maxfreq % 10 else maxfreq + 10)"
   ]
  },
  {
   "cell_type": "code",
   "execution_count": 192,
   "metadata": {
    "collapsed": false
   },
   "outputs": [],
   "source": [
    "data['date_added'] = pd.to_datetime(data['date_added'])"
   ]
  },
  {
   "cell_type": "code",
   "execution_count": 198,
   "metadata": {
    "collapsed": false
   },
   "outputs": [
    {
     "data": {
      "text/plain": [
       "0         2015-09-14 00:00:00.000000\n",
       "1         2015-09-15 00:00:00.000000\n",
       "2         2015-09-16 00:00:00.000000\n",
       "3         2015-09-16 00:00:00.000000\n",
       "4         2015-09-16 00:00:00.000000\n",
       "5         2015-09-16 00:00:00.000000\n",
       "6         2015-09-16 00:00:00.000000\n",
       "7         2015-09-16 00:00:00.000000\n",
       "8         2015-09-16 00:00:00.000000\n",
       "9         2015-09-16 00:00:00.000000\n",
       "10        2015-09-16 00:00:00.000000\n",
       "11        2015-09-16 00:00:00.000000\n",
       "12        2015-09-16 00:00:00.000000\n",
       "13        2015-09-16 00:00:00.000000\n",
       "14        2015-09-16 00:00:00.000000\n",
       "15        2015-09-16 00:00:00.000000\n",
       "16        2015-09-16 00:00:00.000000\n",
       "17        2015-09-16 00:00:00.000000\n",
       "18        2015-09-16 00:00:00.000000\n",
       "19        2015-09-16 00:00:00.000000\n",
       "20        2015-09-16 00:00:00.000000\n",
       "21        2015-09-16 00:00:00.000000\n",
       "22        2015-09-16 00:00:00.000000\n",
       "23        2015-09-16 00:00:00.000000\n",
       "24        2015-09-16 00:00:00.000000\n",
       "25        2015-09-16 00:00:00.000000\n",
       "26        2015-09-16 00:00:00.000000\n",
       "27        2015-09-16 00:00:00.000000\n",
       "28        2015-09-16 00:00:00.000000\n",
       "29        2015-09-16 00:00:00.000000\n",
       "                     ...            \n",
       "2426166   2018-07-17 15:53:19.596716\n",
       "2426167   2018-07-17 16:28:34.062442\n",
       "2426168   2018-07-17 17:14:35.677121\n",
       "2426169   2018-07-17 18:41:35.842160\n",
       "2426170   2018-07-17 20:13:21.640062\n",
       "2426171   2018-07-17 17:06:52.568567\n",
       "2426172   2018-07-17 18:22:03.468575\n",
       "2426173   2018-07-17 16:28:56.135720\n",
       "2426174   2018-07-17 16:35:32.522358\n",
       "2426175   2018-07-17 16:20:21.170922\n",
       "2426176   2018-07-17 19:40:14.779159\n",
       "2426177   2018-07-17 19:20:46.304931\n",
       "2426178   2018-07-17 16:05:32.966945\n",
       "2426179   2018-07-17 19:34:51.110306\n",
       "2426180   2018-07-17 18:48:36.142365\n",
       "2426181   2018-07-17 18:04:21.089209\n",
       "2426182   2018-07-17 19:17:47.655332\n",
       "2426183   2018-07-17 13:51:05.378120\n",
       "2426184   2018-07-17 16:15:26.888715\n",
       "2426185   2018-07-17 19:41:20.527688\n",
       "2426186   2018-07-17 18:00:19.706038\n",
       "2426187   2018-07-17 17:39:01.288830\n",
       "2426188   2018-07-17 16:32:14.019549\n",
       "2426189   2018-07-17 14:06:50.927847\n",
       "2426190   2018-07-17 16:06:50.083625\n",
       "2426191   2018-07-17 17:17:08.889700\n",
       "2426192   2018-07-17 15:54:35.807059\n",
       "2426193   2018-07-17 13:44:19.302482\n",
       "2426194   2018-07-17 17:28:48.430667\n",
       "2426195   2018-07-17 13:35:56.531514\n",
       "Name: date_added, Length: 2426196, dtype: datetime64[ns]"
      ]
     },
     "execution_count": 198,
     "metadata": {},
     "output_type": "execute_result"
    }
   ],
   "source": [
    "data['date_added']"
   ]
  },
  {
   "cell_type": "code",
   "execution_count": 202,
   "metadata": {
    "collapsed": false
   },
   "outputs": [],
   "source": [
    "data['year']=pd.DatetimeIndex(data['date_added']).year"
   ]
  },
  {
   "cell_type": "code",
   "execution_count": 203,
   "metadata": {
    "collapsed": true
   },
   "outputs": [],
   "source": [
    "mask = data['year']==2016"
   ]
  },
  {
   "cell_type": "code",
   "execution_count": 205,
   "metadata": {
    "collapsed": false
   },
   "outputs": [],
   "source": [
    "dataf1 = data[mask]"
   ]
  },
  {
   "cell_type": "code",
   "execution_count": 206,
   "metadata": {
    "collapsed": true
   },
   "outputs": [],
   "source": [
    "mask = dataf1['industry']=='Banking'"
   ]
  },
  {
   "cell_type": "code",
   "execution_count": 207,
   "metadata": {
    "collapsed": false
   },
   "outputs": [],
   "source": [
    "dataf2 = dataf1[mask]"
   ]
  },
  {
   "cell_type": "code",
   "execution_count": 237,
   "metadata": {
    "collapsed": false
   },
   "outputs": [],
   "source": [
    "a=dataf2.groupby('company_name').count()['date_added']"
   ]
  },
  {
   "cell_type": "code",
   "execution_count": 235,
   "metadata": {
    "collapsed": false
   },
   "outputs": [],
   "source": [
    "b=dataf2.groupby('company_name')['employees_on_platform'].mean()"
   ]
  },
  {
   "cell_type": "code",
   "execution_count": 239,
   "metadata": {
    "collapsed": false
   },
   "outputs": [],
   "source": [
    "c=(a/b)"
   ]
  },
  {
   "cell_type": "code",
   "execution_count": 241,
   "metadata": {
    "collapsed": false
   },
   "outputs": [
    {
     "data": {
      "text/plain": [
       "company_name\n",
       "1st Security Bank of Washington                        0.005405\n",
       "1st Source Bank                                        0.049065\n",
       "ACNB Bank                                              0.270093\n",
       "Access National Bank                                   0.229573\n",
       "Alliance Association Bank                              2.868421\n",
       "Alliance Bank of Arizona                               0.620807\n",
       "AmTrust Bank, A Division of New York Community Bank    0.340457\n",
       "AmeriServ Financial Bank                               0.150527\n",
       "American River Bank                                    0.344030\n",
       "American Savings Bank                                  0.135153\n",
       "Ameris Bank                                            0.056488\n",
       "Anchor Bank WA                                         0.453076\n",
       "Arizona Bank & Trust                                   0.236372\n",
       "Arizona Bank &amp; Trust                               0.178218\n",
       "AuburnBank                                             0.355415\n",
       "BBCN Bank                                              0.178647\n",
       "BBVA                                                   0.006159\n",
       "BCB Community Bank                                     0.036824\n",
       "BLADEX                                                 0.140356\n",
       "BOK Financial                                          0.046480\n",
       "Banc of California                                     0.041885\n",
       "BancFirst                                              0.031132\n",
       "Banco Macro                                            0.008910\n",
       "Banco Popular de Puerto Rico                           0.046088\n",
       "Banco Santander                                        0.004069\n",
       "Banco Santander Chile                                  0.003463\n",
       "Banco Santander Mexico                                 0.005780\n",
       "Bancolombia                                            0.003920\n",
       "Bank Midwest                                           0.210141\n",
       "Bank of Albuquerque                                    0.714868\n",
       "                                                         ...   \n",
       "Santander Brasil                                       0.005143\n",
       "Scotiabank                                             0.007473\n",
       "Shore United Bank                                      1.791519\n",
       "Simmons Bank                                           0.053704\n",
       "Sound Community Bank                                   0.508866\n",
       "Southern Bank                                          0.206321\n",
       "Sterling National Bank                                 0.055954\n",
       "Stock Yards Bank & Trust                               0.483390\n",
       "Stock Yards Bank &amp; Trust                           0.129038\n",
       "TD                                                     0.004038\n",
       "Texas Capital Bank                                     0.033675\n",
       "The Fauquier Bank                                      0.502856\n",
       "The Provident Bank                                     0.163159\n",
       "The Washington Trust Company                           0.101184\n",
       "Third Federal                                          0.259499\n",
       "Torrey Pines Bank                                      0.538162\n",
       "Two River Community Bank                               0.407794\n",
       "U.S. Bank                                              0.007781\n",
       "Umpqua Bank                                            0.037527\n",
       "United Community Bank                                  0.033700\n",
       "Valley National Bank                                   0.009357\n",
       "Vectra Bank Colorado                                   0.295064\n",
       "WSFS Bank                                              0.038388\n",
       "Webster Bank                                           0.043428\n",
       "WesBanco                                               0.047337\n",
       "Western Alliance Bancorporation                        0.155212\n",
       "Whidbey Island Bank, A Division of Heritage Bank       0.363789\n",
       "Wisconsin Bank & Trust                                 0.196435\n",
       "Wisconsin Bank &amp; Trust                             0.152542\n",
       "Zions Bank                                             0.063268\n",
       "Length: 202, dtype: float64"
      ]
     },
     "execution_count": 241,
     "metadata": {},
     "output_type": "execute_result"
    }
   ],
   "source": [
    "c"
   ]
  },
  {
   "cell_type": "code",
   "execution_count": 302,
   "metadata": {
    "collapsed": false
   },
   "outputs": [
    {
     "data": {
      "text/plain": [
       "<matplotlib.text.Text at 0x10ba353c8>"
      ]
     },
     "execution_count": 302,
     "metadata": {},
     "output_type": "execute_result"
    },
    {
     "data": {
      "image/png": "[encoded data removed]",
      "text/plain": [
       "<matplotlib.figure.Figure at 0x10b997860>"
      ]
     },
     "metadata": {},
     "output_type": "display_data"
    }
   ],
   "source": [
    "plt.loglog(b,c,'.'); plt.ylim(1e-6, 100); plt.xlim(1,3e5); \n",
    "plt.xlabel('size of the company'); \n",
    "plt.ylabel('turnover rate'); \n",
    "plt.title('Turnover rate vs size of company in Banking industry year 2016')"
   ]
  },
  {
   "cell_type": "code",
   "execution_count": 307,
   "metadata": {
    "collapsed": false
   },
   "outputs": [
    {
     "name": "stdout",
     "output_type": "stream",
     "text": [
      "                            OLS Regression Results                            \n",
      "==============================================================================\n",
      "Dep. Variable:                      y   R-squared:                       0.550\n",
      "Model:                            OLS   Adj. R-squared:                  0.548\n",
      "Method:                 Least Squares   F-statistic:                     244.6\n",
      "Date:                Sun, 28 Oct 2018   Prob (F-statistic):           1.52e-36\n",
      "Time:                        12:19:42   Log-Likelihood:                -320.15\n",
      "No. Observations:                 202   AIC:                             644.3\n",
      "Df Residuals:                     200   BIC:                             650.9\n",
      "Df Model:                           1                                         \n",
      "Covariance Type:            nonrobust                                         \n",
      "=========================================================================================\n",
      "                            coef    std err          t      P>|t|      [0.025      0.975]\n",
      "-----------------------------------------------------------------------------------------\n",
      "const                     1.6449      0.285      5.763      0.000       1.082       2.208\n",
      "employees_on_platform    -0.6879      0.044    -15.641      0.000      -0.775      -0.601\n",
      "==============================================================================\n",
      "Omnibus:                       19.876   Durbin-Watson:                   1.840\n",
      "Prob(Omnibus):                  0.000   Jarque-Bera (JB):               23.064\n",
      "Skew:                          -0.821   Prob(JB):                     9.81e-06\n",
      "Kurtosis:                       3.207   Cond. No.                         22.7\n",
      "==============================================================================\n",
      "\n",
      "Warnings:\n",
      "[1] Standard Errors assume that the covariance matrix of the errors is correctly specified.\n"
     ]
    },
    {
     "data": {
      "image/png": "[encoded data removed]",
      "text/plain": [
       "<matplotlib.figure.Figure at 0x10910d278>"
      ]
     },
     "metadata": {},
     "output_type": "display_data"
    }
   ],
   "source": [
    "import statsmodels.api as sm\n",
    "\n",
    "X = np.log(b)\n",
    "Y = np.log(c)\n",
    "\n",
    "results = sm.OLS(Y,sm.add_constant(X)).fit()\n",
    "\n",
    "print(results.summary())\n",
    "\n",
    "plt.scatter(X,Y)\n",
    "\n",
    "X_plot = np.log(np.linspace(1,2e5,100))\n",
    "plt.plot(X_plot, (X_plot)*results.params[1] + results.params[0])\n",
    "\n",
    "plt.xlabel('Log size of the company'); \n",
    "plt.ylabel('Log turnover rate'); \n",
    "plt.title('Turnover rate vs size of company in Banking industry year 2016')\n",
    "\n",
    "plt.show()"
   ]
  }
 ],
 "metadata": {
  "kernelspec": {
   "display_name": "Python 3",
   "language": "python",
   "name": "python3"
  },
  "language_info": {
   "codemirror_mode": {
    "name": "ipython",
    "version": 3
   },
   "file_extension": ".py",
   "mimetype": "text/x-python",
   "name": "python",
   "nbconvert_exporter": "python",
   "pygments_lexer": "ipython3",
   "version": "3.6.0"
  }
 },
 "nbformat": 4,
 "nbformat_minor": 2
}
